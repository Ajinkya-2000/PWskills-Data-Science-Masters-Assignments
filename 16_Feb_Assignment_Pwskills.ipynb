{
 "cells": [
  {
   "cell_type": "code",
   "execution_count": null,
   "id": "3acd820e",
   "metadata": {},
   "outputs": [],
   "source": [
    "# Q1\n",
    "'''\n",
    "Database - Database is a collection of organized and structured data that is stored and accessed\n",
    "electronically. It is basically collection of data items stored in one place and having some common\n",
    "base between them. i.e. College database\n",
    "\n",
    "Difference between SQL and NOSQL :-\n",
    "i) Sql database uses tables with predefined schemas while Nosql database use flexible data models like\n",
    "key-value pairs, documents, graphs.\n",
    "ii) Sql database use sql to query and manipulate data while Nosql database use proprietary query \n",
    "language or APIs.\n",
    "iii) Sql can be limited in terms of scalability while Nosql are designed for scalability and can handle\n",
    "large volumens of data.\n",
    "\n",
    "'''"
   ]
  },
  {
   "cell_type": "code",
   "execution_count": null,
   "id": "b91dbc41",
   "metadata": {},
   "outputs": [],
   "source": [
    "# Q2\n",
    "'''\n",
    "DDL - Data Definition Language\n",
    "It refers to the set of sql statements used to define and manipulate the structure of a database\n",
    "and its objects like tables,indexes, etc.\n",
    "CREATE DROP ALTER TRUNCATE are commands that are part of DDL\n",
    "\n",
    "Examples :-\n",
    "\n",
    "a) Create statement is used to create a database(schema) or tables inside the database \n",
    "   i.e. create table a1(id int , name varchar(15));\n",
    "b) Drop statement is used to delete the data as well as the structure of the table/database\n",
    "   i.e. drop table a1;\n",
    "c) Alter statement is basically to add,modify,rename cloumns/tables etc.\n",
    "   i.e. alter table a1 add id1 char(3);\n",
    "d) Truncate statement is used to delete all the data at once.\n",
    "   i.e. truncate table a1\n",
    "\n",
    "'''"
   ]
  },
  {
   "cell_type": "code",
   "execution_count": null,
   "id": "9bc57182",
   "metadata": {},
   "outputs": [],
   "source": [
    "# Q3\n",
    "'''\n",
    "DML - Data Manipulation Language\n",
    "It is used for adding,updating and manipulating the data inside the databases.\n",
    "INSERT UPDATE DELETE are the commands that are part of DML language.\n",
    "\n",
    "a) insert statement is used to insert data into the tables.\n",
    "   i.e. insert into a1(id , name) values (1 , 'Ajinkya'),(2 , 'Aditya') ;\n",
    "b) update statement is used to update a particular tuple or a set of tuples.\n",
    "   i.e. update a1 set name = 'Aditi' where id = 2 ;\n",
    "c) delete statement is used to delete a particular data or set of data.\n",
    "   i.e. delete from a1 where id = 1 ;\n",
    "'''"
   ]
  },
  {
   "cell_type": "code",
   "execution_count": null,
   "id": "1cf04288",
   "metadata": {},
   "outputs": [],
   "source": [
    "# Q4 \n",
    "'''\n",
    "DQL - Data Query Language\n",
    "It is used to retrieve data from the database.It includes statement such as select, where ,etc.\n",
    "\n",
    "a) Select statment is used to select a particular set of data as required\n",
    "   i.e. select * from a1 ; [select all the data in the table a1]\n",
    "'''"
   ]
  },
  {
   "cell_type": "code",
   "execution_count": null,
   "id": "52ee1c46",
   "metadata": {},
   "outputs": [],
   "source": [
    "# Q5\n",
    "'''\n",
    "Primary key :\n",
    "It is a column or combination of columns that uniquely identifies each row in a table.A primary key\n",
    "is a type of constraint that enforces uniqueness of the values in the specified column or columns.\n",
    "Primary key is used as reference for the foreign key constraints for establishing relationships \n",
    "between the tables.\n",
    "\n",
    "Foreign key :\n",
    "A Foreign key is a column or combination of columns in one table that refer to the primary key of \n",
    "another table.It is used to establish a relationship between two or more tables to retrieve data from\n",
    "multiple tables at once.\n",
    "\n",
    "'''"
   ]
  },
  {
   "cell_type": "code",
   "execution_count": 3,
   "id": "990b1146",
   "metadata": {},
   "outputs": [
    {
     "name": "stdout",
     "output_type": "stream",
     "text": [
      "('vada pav', Decimal('10.00'))\n",
      "('dosa', Decimal('20.00'))\n",
      "('sandwich', Decimal('16.00'))\n",
      "('pizza', Decimal('40.00'))\n"
     ]
    }
   ],
   "source": [
    "# Q6\n",
    "'''\n",
    "cursor() - This method creates a cursor object that can be used to execute sql queries on the database.\n",
    "\n",
    "execute() - This method is used to execute the queries on the database using the cursor object.\n",
    "'''\n",
    "import mysql.connector\n",
    "\n",
    "mydb = mysql.connector.connect(\n",
    "    host = 'localhost' ,\n",
    "    user = 'root' ,\n",
    "    password = 'root' ,\n",
    "    database = 'food_db'\n",
    ")\n",
    "\n",
    "# Creation of cursor object\n",
    "cursor = mydb.cursor()\n",
    "\n",
    "# Executing query\n",
    "cursor.execute(\"select * from items\")\n",
    "for i in cursor.fetchall():\n",
    "    print(i)"
   ]
  },
  {
   "cell_type": "code",
   "execution_count": null,
   "id": "08ac915a",
   "metadata": {},
   "outputs": [],
   "source": [
    "# Q7\n",
    "# The order of execution of Sql clauses :-\n",
    "# from -> where -> group by -> having -> select -> distinct -> order by -> limit"
   ]
  }
 ],
 "metadata": {
  "kernelspec": {
   "display_name": "Python 3 (ipykernel)",
   "language": "python",
   "name": "python3"
  },
  "language_info": {
   "codemirror_mode": {
    "name": "ipython",
    "version": 3
   },
   "file_extension": ".py",
   "mimetype": "text/x-python",
   "name": "python",
   "nbconvert_exporter": "python",
   "pygments_lexer": "ipython3",
   "version": "3.9.13"
  }
 },
 "nbformat": 4,
 "nbformat_minor": 5
}
