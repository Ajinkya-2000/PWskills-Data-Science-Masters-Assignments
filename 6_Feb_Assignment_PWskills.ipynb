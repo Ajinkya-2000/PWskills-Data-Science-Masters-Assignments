{
 "cells": [
  {
   "cell_type": "code",
   "execution_count": 16,
   "id": "84950c48",
   "metadata": {},
   "outputs": [
    {
     "name": "stdout",
     "output_type": "stream",
     "text": [
      "Flatten list : [1, 2, 3, 4, 44, 55, 66, 34, 56, 78, 89, 34, 1, 2, 3, 1, 4, 34, 55, 67, 78, 89, 45, 22, 61, 34, 56]\n",
      "The product of elements of list [1, 2, 3, 4, 44, 55, 66, 34, 56, 78, 89, 34, 1, 2, 3, 1, 4, 34, 55, 67, 78, 89, 45, 22, 61, 34, 56] is 4134711838987085478833841242112000\n"
     ]
    }
   ],
   "source": [
    "#  Create a function which will take a list as an argument and return the product of all the numbers \n",
    "#  after creating a flat list.\n",
    "from functools import reduce\n",
    "\n",
    "new_list = []                          # global variable\n",
    "def list_filter_product(l1):\n",
    "    for i in l1:\n",
    "        if type(i) == int:\n",
    "            new_list.append(i)\n",
    "        elif type(i) == list:\n",
    "            list_filter_product(i)\n",
    "        elif type(i) == tuple:\n",
    "            list_filter_product(i)\n",
    "        elif type(i) == set:\n",
    "            list_filter_product(i)\n",
    "        elif type(i) == dict:\n",
    "            a1 = i.keys()\n",
    "            b1 = i.values()\n",
    "            list_filter_product(a1)\n",
    "            list_filter_product(b1)\n",
    "        \n",
    "    return new_list\n",
    "\n",
    "    \n",
    "list1 = [1,2,3,4, [44,55,66, True], False, (34,56,78,89,34), {1,2,3,3,2,1}, \n",
    "         {1:34, \"key2\": [55, 67, 78, 89], 4: (45, 22, 61, 34)}, [56, 'data science'], 'Machine Learning']\n",
    "\n",
    "# function call - flat list of only numeric values\n",
    "l2 = list_filter_product(list1)\n",
    "print(\"Flatten list :\",l2)\n",
    "\n",
    "# Product of the list elements\n",
    "product = reduce(lambda a,b : a*b , l2)\n",
    "print(f\"The product of elements of list {l2} is {product}\")"
   ]
  },
  {
   "cell_type": "code",
   "execution_count": 10,
   "id": "8d968785",
   "metadata": {},
   "outputs": [
    {
     "name": "stdout",
     "output_type": "stream",
     "text": [
      "Enter your message :I want to become a Data Scientist\n",
      "The Encrypted message is : r$dzmg$gl$yvxlnv$z$wzgz$hxrvmgrhg\n"
     ]
    }
   ],
   "source": [
    "#2 Encryption of the message\n",
    "l1 = [chr(i) for i in range(97,123)]\n",
    "l2 = [chr(i) for i in range(122,96,-1)]\n",
    "\n",
    "d1 = {a:b for a,b in zip(l1,l2)}\n",
    "d1[' '] = '$'\n",
    "#print(d1)\n",
    "\n",
    "message = input(\"Enter your message :\")\n",
    "message = message.lower()\n",
    "encrypt = ''\n",
    "\n",
    "for i in message:\n",
    "    if i in d1.keys():\n",
    "        encrypt += d1[i]\n",
    "    else:\n",
    "        encrypt += i\n",
    "print(\"The Encrypted message is :\",encrypt)\n"
   ]
  },
  {
   "cell_type": "code",
   "execution_count": null,
   "id": "72c2c843",
   "metadata": {},
   "outputs": [],
   "source": []
  }
 ],
 "metadata": {
  "kernelspec": {
   "display_name": "Python 3 (ipykernel)",
   "language": "python",
   "name": "python3"
  },
  "language_info": {
   "codemirror_mode": {
    "name": "ipython",
    "version": 3
   },
   "file_extension": ".py",
   "mimetype": "text/x-python",
   "name": "python",
   "nbconvert_exporter": "python",
   "pygments_lexer": "ipython3",
   "version": "3.9.13"
  }
 },
 "nbformat": 4,
 "nbformat_minor": 5
}
