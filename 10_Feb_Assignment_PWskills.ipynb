{
 "cells": [
  {
   "cell_type": "code",
   "execution_count": null,
   "id": "dfcd8daa",
   "metadata": {},
   "outputs": [],
   "source": [
    "# Q1\n",
    "'''\n",
    "The 'open()' function is used to open a file in python.\n",
    "It takes two arguments : the name of the file , mode in which the file is to be opened.\n",
    "\n",
    "Different Modes of files are :-\n",
    "'r' - This is the default mode.It opens the file for reading.If file does not exists it gives an error.\n",
    "'w' - This mode is used to write inside a file.If the file exists the content inside the file is truncated.\n",
    "      If the file does not exists it will create a new file.\n",
    "'a' - This mode is used to append information inside a file.If the file exists, the new info is appended at \n",
    "      the end of the file.If file does not exists it will create a new file.\n",
    "'x' - This mode opens the file for exclusive creation.If the file already exists, an error is raised.\n",
    "'b' - This mode is used for binary files.It can be used along with any of the above modes.It is used to indicate\n",
    "      that the file is a binary file.\n",
    "'''"
   ]
  },
  {
   "cell_type": "code",
   "execution_count": null,
   "id": "e83c60cc",
   "metadata": {},
   "outputs": [],
   "source": [
    "# Q2\n",
    "'''\n",
    "The 'close()' function is used to close the file that was previously opened using the open() function.\n",
    "When we open a file, Operating system allocates some resources to it.These resources are released when we close the file.\n",
    "\n",
    "Importance of closing the file :-\n",
    "i) Resource leak: If you do not close a file, the resources allocated to the file by operating system may not be released,\n",
    "                  leading to resource leak.\n",
    "ii) Data loss: If you do not close a file, any data that is still in the memory buffer may not be written to the file.\n",
    "iii) Inconssitent data: If you do not close a file, other programs may not be able to access the file until your program\n",
    "                        releases the file handle.\n",
    "'''"
   ]
  },
  {
   "cell_type": "code",
   "execution_count": 1,
   "id": "412b7678",
   "metadata": {},
   "outputs": [
    {
     "name": "stdout",
     "output_type": "stream",
     "text": [
      "I want to be a Data Scientist\n"
     ]
    }
   ],
   "source": [
    "# Q3\n",
    "# Creating a file in write mode\n",
    "f = open('Data_Science.txt' , 'w')\n",
    "f.write(\"I want to be a Data Scientist\")\n",
    "f.close()\n",
    "\n",
    "# Reading the same file\n",
    "f1 = open('Data_Science.txt' , 'r')\n",
    "print(f1.read())"
   ]
  },
  {
   "cell_type": "code",
   "execution_count": 3,
   "id": "27426c65",
   "metadata": {},
   "outputs": [
    {
     "name": "stdout",
     "output_type": "stream",
     "text": [
      "I want to be a Data ScientistMy name is Ajinkya SurveI want to be a Data ScientistI am learning Data Science Masters from PWskills I am really happy with content provided by themMy name is Ajinkya Surve\n",
      "I want to be a Data Scientist\n",
      "I am learning Data Science Masters from PWskills\n",
      "I am really happy with content provided by them\n",
      "\n"
     ]
    }
   ],
   "source": [
    "# Q4 \n",
    "f = open('Data_Science.txt' , 'a')\n",
    "f.write(\"My name is Ajinkya Surve\\n\")\n",
    "f.write(\"I want to be a Data Scientist\\n\")\n",
    "f.write(\"I am learning Data Science Masters from PWskills\\n\")\n",
    "f.write(\"I am really happy with content provided by them\\n\")\n",
    "f.close()\n",
    "\n",
    "# read readline readlines\n",
    "f = open('Data_Science.txt' , 'r')\n",
    "\n",
    "# read() - It reads the entire content of the file\n",
    "print(f.read())\n"
   ]
  },
  {
   "cell_type": "code",
   "execution_count": 7,
   "id": "5e4e7f98",
   "metadata": {},
   "outputs": [
    {
     "name": "stdout",
     "output_type": "stream",
     "text": [
      "I want to be a Data ScientistMy name is Ajinkya SurveI want to be a Data ScientistI am learning Data Science Masters from PWskills I am really happy with content provided by themMy name is Ajinkya Surve\n",
      "\n",
      "I want to be a Data Scientist\n",
      "\n",
      "['I am learning Data Science Masters from PWskills\\n', 'I am really happy with content provided by them\\n']\n"
     ]
    }
   ],
   "source": [
    "f.seek(0)                # Bringing pointer to start position\n",
    "# Readline() - It reads the content line by line\n",
    "print(f.readline())\n",
    "print(f.readline())\n",
    "\n",
    "# readlines() - It reads the entire content and gives output as a list of lines(strings)\n",
    "print(f.readlines())\n",
    "f.close()"
   ]
  },
  {
   "cell_type": "code",
   "execution_count": 8,
   "id": "b9e3481a",
   "metadata": {},
   "outputs": [
    {
     "name": "stdout",
     "output_type": "stream",
     "text": [
      "I want to be a Data ScientistMy name is Ajinkya SurveI want to be a Data ScientistI am learning Data Science Masters from PWskills I am really happy with content provided by themMy name is Ajinkya Surve\n",
      "I want to be a Data Scientist\n",
      "I am learning Data Science Masters from PWskills\n",
      "I am really happy with content provided by them\n",
      "\n"
     ]
    }
   ],
   "source": [
    "# Q5\n",
    "'''\n",
    "The 'with' statement is used with the open() function in Python to ensure that a file is properly closed after it \n",
    "has been used. The 'with' statement provides a convenient way to automatically close a file when it is no longer \n",
    "needed, even if an exception is raised while the file is being processed.\n",
    "'''\n",
    "\n",
    "# Example of 'with' statement\n",
    "with open('Data_Science.txt' , 'r') as f:\n",
    "    print(f.read())"
   ]
  },
  {
   "cell_type": "code",
   "execution_count": 10,
   "id": "d4281315",
   "metadata": {},
   "outputs": [
    {
     "name": "stdout",
     "output_type": "stream",
     "text": [
      "This is a line of text\n",
      "Line2\n",
      "Line3\n",
      "Line4\n",
      "\n"
     ]
    }
   ],
   "source": [
    "# Q6\n",
    "'''\n",
    "write() - This functions writes a string of data to a file.It takes a string as input and writes it to the file\n",
    "          at the current position.\n",
    "writelines() - This function writes a list of strings to the file. This function takes a list of strings as input, \n",
    "               and writes each string to the file at the current file position.\n",
    "'''\n",
    "\n",
    "# Example\n",
    "with open('test3.txt' , 'w') as f:\n",
    "    f.write('This is a line of text\\n')\n",
    "    l1 = ['Line2\\n' , 'Line3\\n' , 'Line4\\n']\n",
    "    f.writelines(l1)\n",
    "\n",
    "with open('test3.txt' , 'r') as f1:\n",
    "    print(f1.read())"
   ]
  },
  {
   "cell_type": "code",
   "execution_count": null,
   "id": "bda1e83d",
   "metadata": {},
   "outputs": [],
   "source": []
  }
 ],
 "metadata": {
  "kernelspec": {
   "display_name": "Python 3 (ipykernel)",
   "language": "python",
   "name": "python3"
  },
  "language_info": {
   "codemirror_mode": {
    "name": "ipython",
    "version": 3
   },
   "file_extension": ".py",
   "mimetype": "text/x-python",
   "name": "python",
   "nbconvert_exporter": "python",
   "pygments_lexer": "ipython3",
   "version": "3.9.13"
  }
 },
 "nbformat": 4,
 "nbformat_minor": 5
}
