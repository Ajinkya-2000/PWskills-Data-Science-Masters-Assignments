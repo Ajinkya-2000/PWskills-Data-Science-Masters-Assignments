{
 "cells": [
  {
   "cell_type": "code",
   "execution_count": 1,
   "id": "32ebdbb2",
   "metadata": {},
   "outputs": [
    {
     "name": "stdout",
     "output_type": "stream",
     "text": [
      "Name of Vehicle : Audi Q1\n",
      "Max Speed : 220\n",
      "Average : 18\n"
     ]
    }
   ],
   "source": [
    "# Q1\n",
    "class Vehicle:\n",
    "    def __init__(self,name_of_vehicle,max_speed,avg_of_vehicle):\n",
    "        self.name = name_of_vehicle\n",
    "        self.speed = max_speed\n",
    "        self.avg = avg_of_vehicle\n",
    "    def display(self):\n",
    "        print(f\"Name of Vehicle : {self.name}\\nMax Speed : {self.speed}\\nAverage : {self.avg}\")\n",
    "\n",
    "car1 = Vehicle('Audi Q1',220,18)\n",
    "car1.display()\n"
   ]
  },
  {
   "cell_type": "code",
   "execution_count": 8,
   "id": "307b5008",
   "metadata": {},
   "outputs": [
    {
     "name": "stdout",
     "output_type": "stream",
     "text": [
      "The Car has seating capacity of 5\n"
     ]
    }
   ],
   "source": [
    "# Q2\n",
    "class Car(Vehicle):\n",
    "    def seating_capacity(self,seats):\n",
    "        print(f\"The Car has seating capacity of {seats}\")\n",
    "\n",
    "    \n",
    "ford = Car('Ford Figo',240,23)\n",
    "ford.seating_capacity(5)\n"
   ]
  },
  {
   "cell_type": "code",
   "execution_count": 10,
   "id": "d42b38bc",
   "metadata": {},
   "outputs": [
    {
     "name": "stdout",
     "output_type": "stream",
     "text": [
      "This is class C\n",
      "This is class B\n",
      "This is class A\n",
      "Show method of class A\n"
     ]
    }
   ],
   "source": [
    "# Q3 Multiple Inheritance\n",
    "'''\n",
    "Multiple Inheritance is a feature of some object-oriented programming languages, including python that allows a class to \n",
    "inherit from multiple parent classes.When a class inherits from its parent classes it inherits all the attributes and \n",
    "methods of those classes.This can be useful when a class needs to combine the behaviors from multiple classes.\n",
    "\n",
    "One issue that arrise from multiple inheritance is called 'diamond problem',which occurs when two or more parent classes \n",
    "have a common ancestor class.To resolve the problem, python uses Method Resolution Order(MRO) algorithm, which determines\n",
    "the order in which the methods are looked up in inheritance hierarchy.\n",
    "'''\n",
    "\n",
    "# Example\n",
    "class A:\n",
    "    def fun1(s):\n",
    "        print(\"This is class A\")\n",
    "    def show(s):\n",
    "        print(\"Show method of class A\")\n",
    "        \n",
    "class B:\n",
    "    def fun2(s):\n",
    "        print(\"This is class B\")\n",
    "    def show(s):\n",
    "        print(\"Show method of class B\")\n",
    "        \n",
    "class C(A,B):\n",
    "    def fun3(s):\n",
    "        print(\"This is class C\")\n",
    "\n",
    "c = C()\n",
    "c.fun3()\n",
    "c.fun2()\n",
    "c.fun1()\n",
    "c.show()       # Left parent is given preference by MRO\n"
   ]
  },
  {
   "cell_type": "code",
   "execution_count": 12,
   "id": "c0180a6c",
   "metadata": {},
   "outputs": [
    {
     "name": "stdout",
     "output_type": "stream",
     "text": [
      "Name : Ajinkya\n",
      "Name : Kedar\n"
     ]
    }
   ],
   "source": [
    "# Q4 Getter and Setter in python\n",
    "'''\n",
    "In python, getter and setter are methods to access and modify the attributes(instance variables) of a class.\n",
    "Getter : getter, is a method used to access the value of the attribute.(i.e. get_<attributename>)\n",
    "Setter : setter, is a methoed used to modify/set the value of the attribute(i.e. set_<attributename>)\n",
    "'''\n",
    "\n",
    "# Example :\n",
    "class Sample:\n",
    "    def __init__(self,name):\n",
    "        self.name = name\n",
    "    def get_name(self):\n",
    "        print(\"Name :\",self.name)\n",
    "    def set_name(self,name1):\n",
    "        self.name = name1\n",
    "\n",
    "ob = Sample('Ajinkya')\n",
    "ob.get_name()\n",
    "ob.set_name('Kedar')\n",
    "ob.get_name()"
   ]
  },
  {
   "cell_type": "code",
   "execution_count": 13,
   "id": "3f8f7277",
   "metadata": {},
   "outputs": [
    {
     "name": "stdout",
     "output_type": "stream",
     "text": [
      "Fun method of class B - It overrides fun method of class A\n"
     ]
    }
   ],
   "source": [
    "# Q5 Method Overriding\n",
    "'''\n",
    "Method Overriding in python is a feature of object-oriented programming that allows a subclass to provide a \n",
    "different implementation for a method that is already defined in its superclass.\n",
    "\n",
    "When a subclass defines a method with the same name and signature as a method in its superclass, the subclass \n",
    "method will override the superclass method. This means that when the method is called on an instance of the \n",
    "subclass, the subclass method will be executed instead of the superclass method.\n",
    "'''\n",
    "\n",
    "# Example\n",
    "class A:\n",
    "    def fun(s):\n",
    "        print(\"Fun method of class A\")\n",
    "class B(A):\n",
    "    def fun(s):\n",
    "        print(\"Fun method of class B - It overrides fun method of class A\")\n",
    "        \n",
    "b = B()\n",
    "b.fun()"
   ]
  },
  {
   "cell_type": "code",
   "execution_count": null,
   "id": "fbde95b3",
   "metadata": {},
   "outputs": [],
   "source": []
  }
 ],
 "metadata": {
  "kernelspec": {
   "display_name": "Python 3 (ipykernel)",
   "language": "python",
   "name": "python3"
  },
  "language_info": {
   "codemirror_mode": {
    "name": "ipython",
    "version": 3
   },
   "file_extension": ".py",
   "mimetype": "text/x-python",
   "name": "python",
   "nbconvert_exporter": "python",
   "pygments_lexer": "ipython3",
   "version": "3.9.13"
  }
 },
 "nbformat": 4,
 "nbformat_minor": 5
}
