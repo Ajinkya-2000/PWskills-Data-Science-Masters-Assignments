{
 "cells": [
  {
   "cell_type": "code",
   "execution_count": 5,
   "id": "8cc0bb97",
   "metadata": {},
   "outputs": [
    {
     "name": "stdout",
     "output_type": "stream",
     "text": [
      "The Dog barks\n"
     ]
    }
   ],
   "source": [
    "#1 Classes and Objects with example\n",
    "'''\n",
    "A Class is a collection of objects.A class contains the blueprints or the prototype from which\n",
    "the objects are being created.It is a logical entity that contains some attributes and methods.\n",
    "\n",
    "Objects is a run-time entity.It is an instance of the class.An oject can represent person,\n",
    "place or any other item.Objects can operate on both data members and member functions.\n",
    "\n",
    "'''\n",
    "# Example\n",
    "class Dog:                              # Class\n",
    "    def display(self):\n",
    "        print(\"The Dog barks\")\n",
    "        \n",
    "ob = Dog()                              # Object\n",
    "ob.display()"
   ]
  },
  {
   "cell_type": "code",
   "execution_count": 2,
   "id": "a7b49287",
   "metadata": {},
   "outputs": [],
   "source": [
    "#2 Name the four pillars of OOPS\n",
    "'''\n",
    "The four pillars of oops are :-\n",
    "i) Inheritance - It is the process in which one object acquires all the properties and behaviours\n",
    "                 of its parent object automatically.Thus, we can reuse,extend or modify the \n",
    "                 attributes and behaviors which are defined in other classes.\n",
    "ii) Encapsulation - It is the process of combining data and function into a single unit called\n",
    "                    class.In Encapsulation, the data is not acccessed directly, it is accessed \n",
    "                    through the functions present inside the class.\n",
    "iii) Abstraction - It is the process of hiding the internal details of an application from the \n",
    "                   outer world.Abstraction is used to describe things in simple terms.\n",
    "iv) Polymorphism - It is the ability to present the same interface for differing underlying forms.\n",
    "                   With polymorphism, each of these classes will have different underlying data.\n",
    "                   \n",
    "'''"
   ]
  },
  {
   "cell_type": "code",
   "execution_count": 6,
   "id": "de76ec6f",
   "metadata": {},
   "outputs": [
    {
     "name": "stdout",
     "output_type": "stream",
     "text": [
      "The init method created\n",
      "Executes as soon as the object is instantiated\n",
      "The init method created\n",
      "Executes as soon as the object is instantiated\n",
      "hello! I am class Sample\n"
     ]
    }
   ],
   "source": [
    "#3 why the __init__() function is used with examples\n",
    "'''\n",
    "__init__() is basically a constructor function in python. It is always executed.It runs as soons\n",
    "as an object of a class is instantiated.This method is useful for doing any initialization we want\n",
    "to do on our object.\n",
    "\n",
    "'''\n",
    "# Example\n",
    "class Sample:\n",
    "    def __init__(self):\n",
    "        print(\"The init method created\")\n",
    "        print(\"Executes as soon as the object is instantiated\")\n",
    "    def display(self):\n",
    "        print(\"hello! I am class Sample\")\n",
    "        \n",
    "ob1 = Sample()                        # The init method print statement will be executed\n",
    "ob2 = Sample()                        \n",
    "ob2.display()"
   ]
  },
  {
   "cell_type": "code",
   "execution_count": 4,
   "id": "36fc4bff",
   "metadata": {},
   "outputs": [],
   "source": [
    "#4 Why self is used in OOPS\n",
    "'''\n",
    "The 'self' variable is used to represent the instance of the class which is often used\n",
    "in object-oriented programming. It works as a reference to the object. Python uses \n",
    "self parameter to refer to instance attributes and methods of the class.\n",
    "\n",
    "'''"
   ]
  },
  {
   "cell_type": "code",
   "execution_count": 7,
   "id": "dac6e95a",
   "metadata": {},
   "outputs": [],
   "source": [
    "#5 What is inheritance give an example for each type.\n",
    "'''\n",
    "Inheritance :-\n",
    "It is the process in which one object acquires all the properties and behaviours\n",
    "of its parent object automatically.Thus, we can reuse,extend or modify the \n",
    "attributes and behaviors which are defined in other classes.\n",
    "Types of Inheritance :- Single, Multiple, Hierarchical, Multi-level, Hybrid\n",
    "\n",
    "'''"
   ]
  },
  {
   "cell_type": "code",
   "execution_count": 8,
   "id": "1f3c5fef",
   "metadata": {},
   "outputs": [
    {
     "name": "stdout",
     "output_type": "stream",
     "text": [
      "This is a function of Class A\n",
      "This is a function of Class B\n"
     ]
    }
   ],
   "source": [
    "# Single Inheritance\n",
    "class A:                                                        # Parent class\n",
    "    def func1(self):\n",
    "        print(\"This is a function of Class A\")\n",
    "class B(A):                                                     # Child class\n",
    "    def func2(self):\n",
    "        print(\"This is a function of Class B\")\n",
    "\n",
    "a = A()\n",
    "b = B()                 # Child object can access all methods\n",
    "b.func1()\n",
    "b.func2()"
   ]
  },
  {
   "cell_type": "code",
   "execution_count": 2,
   "id": "ce9c15b1",
   "metadata": {},
   "outputs": [
    {
     "name": "stdout",
     "output_type": "stream",
     "text": [
      "This is class A\n",
      "This is class B\n",
      "This is class C\n"
     ]
    }
   ],
   "source": [
    "# Multiple Inheritance\n",
    "class A:\n",
    "    def func1(self):\n",
    "        print(\"This is class A\")\n",
    "class B:\n",
    "    def func2(self):\n",
    "        print(\"This is class B\")\n",
    "        \n",
    "class C(A,B):\n",
    "    def func3(self):\n",
    "        print(\"This is class C\")\n",
    "        \n",
    "ob1 = C()\n",
    "ob1.func1()\n",
    "ob1.func2()\n",
    "ob1.func3()"
   ]
  },
  {
   "cell_type": "code",
   "execution_count": 3,
   "id": "332d5881",
   "metadata": {},
   "outputs": [
    {
     "name": "stdout",
     "output_type": "stream",
     "text": [
      "This is class A - Grandfather\n",
      "This is class B - Father\n",
      "This is class C - Son\n"
     ]
    }
   ],
   "source": [
    "# Multilevel Inheritance\n",
    "class A:\n",
    "    def func1(self):\n",
    "        print(\"This is class A - Grandfather\")\n",
    "class B(A):\n",
    "    def func2(self):\n",
    "        print(\"This is class B - Father\")       \n",
    "class C(B):\n",
    "    def func3(self):\n",
    "        print(\"This is class C - Son\")\n",
    "        \n",
    "ob1 = C()\n",
    "ob1.func1()\n",
    "ob1.func2()\n",
    "ob1.func3()"
   ]
  },
  {
   "cell_type": "code",
   "execution_count": 4,
   "id": "e020b877",
   "metadata": {},
   "outputs": [
    {
     "name": "stdout",
     "output_type": "stream",
     "text": [
      "This is class A\n",
      "This is class A\n",
      "This is class A\n"
     ]
    }
   ],
   "source": [
    "# Hierarchical Inheritance\n",
    "class A:\n",
    "    def func1(self):\n",
    "        print(\"This is class A\")\n",
    "class B(A):\n",
    "    def func2(self):\n",
    "        print(\"This is class B\")       \n",
    "class C(A):\n",
    "    def func3(self):\n",
    "        print(\"This is class C\")\n",
    "class D(A):\n",
    "    def func4(self):\n",
    "        print(\"This is class D\")\n",
    "        \n",
    "ob1 = B()\n",
    "ob2 = C()\n",
    "ob3 = D()\n",
    "ob1.func1()\n",
    "ob2.func1()\n",
    "ob2.func1()"
   ]
  },
  {
   "cell_type": "code",
   "execution_count": null,
   "id": "263766f8",
   "metadata": {},
   "outputs": [],
   "source": []
  }
 ],
 "metadata": {
  "kernelspec": {
   "display_name": "Python 3 (ipykernel)",
   "language": "python",
   "name": "python3"
  },
  "language_info": {
   "codemirror_mode": {
    "name": "ipython",
    "version": 3
   },
   "file_extension": ".py",
   "mimetype": "text/x-python",
   "name": "python",
   "nbconvert_exporter": "python",
   "pygments_lexer": "ipython3",
   "version": "3.9.13"
  }
 },
 "nbformat": 4,
 "nbformat_minor": 5
}
