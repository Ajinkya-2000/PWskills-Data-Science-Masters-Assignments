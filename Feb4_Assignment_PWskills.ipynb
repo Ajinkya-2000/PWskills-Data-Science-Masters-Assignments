{
 "cells": [
  {
   "cell_type": "code",
   "execution_count": 27,
   "id": "9b02118b",
   "metadata": {},
   "outputs": [
    {
     "name": "stdout",
     "output_type": "stream",
     "text": [
      "[('Sachin Tendulkar', 34357), ('Ricky Ponting', 27483), ('Jack Kallis', 25534), ('Virat Kohli', 24936)]\n"
     ]
    }
   ],
   "source": [
    "#1 Sort the list based on the scores of players\n",
    "a = [('Sachin Tendulkar', 34357), ('Ricky Ponting', 27483), ('Jack Kallis', 25534), ('Virat Kohli', 24936)]\n",
    "result = sorted(a , key = lambda a : a[1] , reverse = True) # sorted function takes 3 parameters values to be sorted,key,reverse\n",
    "# We have passed the function(key) to sort according to the scores of players in descending order\n",
    "print(result)"
   ]
  },
  {
   "cell_type": "code",
   "execution_count": 2,
   "id": "2c67b86a",
   "metadata": {},
   "outputs": [
    {
     "name": "stdout",
     "output_type": "stream",
     "text": [
      "[1, 4, 9, 16, 25, 36, 49, 64, 81, 100]\n"
     ]
    }
   ],
   "source": [
    "#2 Square of all numbers in a list\n",
    "l = [1,2,3,4,5,6,7,8,9,10]\n",
    "res = list(map(lambda x : x**2 , l))\n",
    "print(res)"
   ]
  },
  {
   "cell_type": "code",
   "execution_count": 10,
   "id": "d0ed0115",
   "metadata": {},
   "outputs": [
    {
     "name": "stdout",
     "output_type": "stream",
     "text": [
      "('1', '2', '3', '4', '5', '6', '7', '8', '9', '10')\n"
     ]
    }
   ],
   "source": [
    "#3 Convert given list of integers into a tuple of string\n",
    "l1 = [1,2,3,4,5,6,7,8,9,10]\n",
    "\n",
    "t1 = tuple([str(i) for i in l1])\n",
    "print(t1)"
   ]
  },
  {
   "cell_type": "code",
   "execution_count": 21,
   "id": "d81882e1",
   "metadata": {},
   "outputs": [
    {
     "name": "stdout",
     "output_type": "stream",
     "text": [
      "The product : 15511210043330985984000000\n"
     ]
    }
   ],
   "source": [
    "#4 product of list containing nos from 1 to 25 using reduce\n",
    "from functools import reduce\n",
    "l1 = [i for i in range(1,26)]\n",
    "result = int(reduce(lambda a,b : a*b , l1))\n",
    "print(\"The product :\",result)"
   ]
  },
  {
   "cell_type": "code",
   "execution_count": 12,
   "id": "e333035c",
   "metadata": {},
   "outputs": [
    {
     "name": "stdout",
     "output_type": "stream",
     "text": [
      "[6, 60, 90, 120]\n"
     ]
    }
   ],
   "source": [
    "#5 Filter the numbers divisible by 2 and 3\n",
    "l2 = [2, 3, 6, 9, 27, 60, 90, 120, 55, 46]\n",
    "result = list(filter(lambda a : a%2 == 0 and a%3 == 0 , l2))\n",
    "print(result)"
   ]
  },
  {
   "cell_type": "code",
   "execution_count": 15,
   "id": "fbf242c7",
   "metadata": {},
   "outputs": [
    {
     "name": "stdout",
     "output_type": "stream",
     "text": [
      "['php', 'aba', 'radar', 'level']\n"
     ]
    }
   ],
   "source": [
    "#6 Find palindromes in the given list using lambda and filter\n",
    "l3 = ['python', 'php', 'aba', 'radar', 'level']\n",
    "result = list(filter(lambda x : x == x[::-1] , l3))\n",
    "print(result)"
   ]
  },
  {
   "cell_type": "code",
   "execution_count": null,
   "id": "82fde1a7",
   "metadata": {},
   "outputs": [],
   "source": []
  }
 ],
 "metadata": {
  "kernelspec": {
   "display_name": "Python 3 (ipykernel)",
   "language": "python",
   "name": "python3"
  },
  "language_info": {
   "codemirror_mode": {
    "name": "ipython",
    "version": 3
   },
   "file_extension": ".py",
   "mimetype": "text/x-python",
   "name": "python",
   "nbconvert_exporter": "python",
   "pygments_lexer": "ipython3",
   "version": "3.9.13"
  }
 },
 "nbformat": 4,
 "nbformat_minor": 5
}
