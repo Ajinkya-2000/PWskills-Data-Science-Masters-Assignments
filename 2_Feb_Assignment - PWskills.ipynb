{
 "cells": [
  {
   "cell_type": "code",
   "execution_count": null,
   "id": "716991fc",
   "metadata": {},
   "outputs": [],
   "source": [
    "# Q1 \n",
    "'''\n",
    "Characteristics of Tuple are :-\n",
    "i) Tuples are ordered.\n",
    "ii) Tuples are indexed.\n",
    "iii) Tuples can contain duplicate values.\n",
    "iv) Tuples data can contain other datatypes i.e. list,str,etc.\n",
    "v) Once the data is assigned to the tuple, the value cannot be changed.\n",
    "\n",
    "Yes,Tuples are immutable.\n",
    "\n",
    "'''"
   ]
  },
  {
   "cell_type": "code",
   "execution_count": null,
   "id": "bb09b3cd",
   "metadata": {},
   "outputs": [],
   "source": [
    "# Q2\n",
    "'''\n",
    "Methods in tuple :-\n",
    "a) count() - returns the number of times a specific value occurs in the tuple\n",
    "b) index() - searches the tuple for the specified value and returns the position of where it was found\n",
    "\n",
    "In tuple, we cannot add/update or remove value directly as tuple is immutable.That's the reason we have\n",
    "only two built-in methods for tuple.We generally store information inside a tuple that is not going to change.\n",
    "\n",
    "'''"
   ]
  },
  {
   "cell_type": "code",
   "execution_count": 4,
   "id": "17d24782",
   "metadata": {},
   "outputs": [
    {
     "name": "stdout",
     "output_type": "stream",
     "text": [
      "3\n",
      "4\n"
     ]
    }
   ],
   "source": [
    "# Example of methods in tuple\n",
    "t1 = (1,2,3,2,5,6,2)\n",
    "\n",
    "print(t1.count(2))\n",
    "print(t1.index(5))"
   ]
  },
  {
   "cell_type": "code",
   "execution_count": 5,
   "id": "156d7bce",
   "metadata": {},
   "outputs": [
    {
     "name": "stdout",
     "output_type": "stream",
     "text": [
      "{1, 2, 3, 4}\n"
     ]
    }
   ],
   "source": [
    "# Q3 Sets datatype in python does not allow collection of duplicate dataitems.\n",
    "l1 = [1,1,1,2,1,3,1,4,2,1,2,2,2,3,2,4,3,1,3,2,3,3,3,4,4,1,4,2,4,3,4,4]\n",
    "s1 = set(l1)\n",
    "print(s1)"
   ]
  },
  {
   "cell_type": "code",
   "execution_count": null,
   "id": "510c80f4",
   "metadata": {},
   "outputs": [],
   "source": [
    "# Q4\n",
    "'''\n",
    "union() - returns a completely new set from the combination of the two sets.\n",
    "update() - returns the previous set with the new values added from other set.\n",
    "\n",
    "'''"
   ]
  },
  {
   "cell_type": "code",
   "execution_count": 9,
   "id": "c0b69ff7",
   "metadata": {},
   "outputs": [
    {
     "name": "stdout",
     "output_type": "stream",
     "text": [
      "{1, 2, 3, 4, 5, 6, 7}\n",
      "{1, 2, 3, 4, 5, 6, 7, 8, 9}\n"
     ]
    }
   ],
   "source": [
    "# Example of sets - union() update()\n",
    "s1 = {1,2,3,4}\n",
    "s2 = {4,5,6,7}\n",
    "\n",
    "print(s1.union(s2))\n",
    "s1.update(range(4,10))\n",
    "print(s1)"
   ]
  },
  {
   "cell_type": "code",
   "execution_count": null,
   "id": "feaf0df4",
   "metadata": {},
   "outputs": [],
   "source": [
    "# Q5\n",
    "'''\n",
    "Dictionaries in python:\n",
    "Dictionary is the collection of key-value pair in python.\n",
    "Each key-value pair maps the key to its associated value.\n",
    "i.e. dict1 = {'name':'Ajinkya','Age':22, 'Grade':9.5}\n",
    "\n",
    "Dictionary items are ordered, changeable and does not allow duplicates.\n",
    "\n",
    "'''"
   ]
  },
  {
   "cell_type": "code",
   "execution_count": 12,
   "id": "525c987f",
   "metadata": {},
   "outputs": [
    {
     "name": "stdout",
     "output_type": "stream",
     "text": [
      "{'name': {'fname': 'Ajinkya', 'lname': 'Surve'}, 'Age': 22}\n",
      "Ajinkya\n"
     ]
    }
   ],
   "source": [
    "# Q6 - Yes, we can create a nested dictionary in python.\n",
    "\n",
    "dic1 = {'name':{'fname':'Ajinkya','lname':'Surve'},'Age':22}\n",
    "print(dic1)\n",
    "print(dic1['name']['fname'])"
   ]
  },
  {
   "cell_type": "code",
   "execution_count": 15,
   "id": "da0b39bf",
   "metadata": {},
   "outputs": [
    {
     "name": "stdout",
     "output_type": "stream",
     "text": [
      "['Python', 'Machine Learning', 'Deep Learning']\n",
      "{'language': 'Python', 'course': 'Data Science Masters', 'topics': ['Python', 'Machine Learning', 'Deep Learning']}\n"
     ]
    }
   ],
   "source": [
    "# Q7 Use of setdefault \n",
    "dict1 = {'language' : 'Python', 'course': 'Data Science Masters'}\n",
    "a = dict1.setdefault('topics',['Python','Machine Learning','Deep Learning'])\n",
    "\n",
    "print(a)\n",
    "print(dict1)"
   ]
  },
  {
   "cell_type": "code",
   "execution_count": 18,
   "id": "62a73d95",
   "metadata": {},
   "outputs": [
    {
     "name": "stdout",
     "output_type": "stream",
     "text": [
      "Keys of dictionary : dict_keys(['Sport', 'Teams'])\n",
      "Values of dictionary : dict_values(['Cricket', ['India', 'Australia', 'England', 'South Africa', 'Sri Lanka', 'New Zealand']])\n",
      "Key-value pair in Dictionary :-\n",
      "Sport -> Cricket\n",
      "Teams -> ['India', 'Australia', 'England', 'South Africa', 'Sri Lanka', 'New Zealand']\n"
     ]
    }
   ],
   "source": [
    "# Q8 Three view objects in dictionaries are : keys,values and items.\n",
    "dict1 = {'Sport': 'Cricket' , 'Teams': ['India', 'Australia', 'England', 'South Africa', 'Sri Lanka', 'New Zealand']}\n",
    "\n",
    "# Use of there view objects\n",
    "print(\"Keys of dictionary :\",dict1.keys())\n",
    "print(\"Values of dictionary :\",dict1.values())\n",
    "print(\"Key-value pair in Dictionary :-\")\n",
    "for i,j in dict1.items():\n",
    "    print(i,'->',j)\n"
   ]
  },
  {
   "cell_type": "code",
   "execution_count": null,
   "id": "b2b7b17e",
   "metadata": {},
   "outputs": [],
   "source": []
  },
  {
   "cell_type": "code",
   "execution_count": null,
   "id": "03755c37",
   "metadata": {},
   "outputs": [],
   "source": []
  }
 ],
 "metadata": {
  "kernelspec": {
   "display_name": "Python 3 (ipykernel)",
   "language": "python",
   "name": "python3"
  },
  "language_info": {
   "codemirror_mode": {
    "name": "ipython",
    "version": 3
   },
   "file_extension": ".py",
   "mimetype": "text/x-python",
   "name": "python",
   "nbconvert_exporter": "python",
   "pygments_lexer": "ipython3",
   "version": "3.9.13"
  }
 },
 "nbformat": 4,
 "nbformat_minor": 5
}
