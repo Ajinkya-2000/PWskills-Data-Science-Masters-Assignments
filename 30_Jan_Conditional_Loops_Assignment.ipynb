{
 "cells": [
  {
   "cell_type": "code",
   "execution_count": 3,
   "id": "90a94d31",
   "metadata": {},
   "outputs": [
    {
     "name": "stdout",
     "output_type": "stream",
     "text": [
      "Enter the percentage :89.5\n",
      "Grade B\n"
     ]
    }
   ],
   "source": [
    "#1 Program to accept percentage from user and display grade\n",
    "per = float(input(\"Enter the percentage :\"))\n",
    "if per > 90:\n",
    "    print(\"Grade A\")\n",
    "elif per > 80 and per <= 90:\n",
    "    print(\"Grade B\")\n",
    "elif per >= 60 and per <= 80:\n",
    "    print(\"Grade C\")\n",
    "else:\n",
    "    print(\"Grade D\")"
   ]
  },
  {
   "cell_type": "code",
   "execution_count": 4,
   "id": "b078c036",
   "metadata": {},
   "outputs": [
    {
     "name": "stdout",
     "output_type": "stream",
     "text": [
      "Enter the cost price of the bike :97000\n",
      "Road Tax is  9700.0\n"
     ]
    }
   ],
   "source": [
    "#2 Accept cost price and display road tax to be paid\n",
    "cost_price = int(input(\"Enter the cost price of the bike :\"))\n",
    "if cost_price > 100000:\n",
    "    print(\"Road Tax is \",cost_price*0.15)\n",
    "elif cost_price > 50000 and cost_price <= 100000:\n",
    "    print(\"Road Tax is \",cost_price*0.1)\n",
    "else:\n",
    "    print(\"Road Tax is \",cost_price*0.05)"
   ]
  },
  {
   "cell_type": "code",
   "execution_count": 7,
   "id": "9be7db0e",
   "metadata": {},
   "outputs": [
    {
     "name": "stdout",
     "output_type": "stream",
     "text": [
      "Enter a city from the given list:\n",
      "1.Delhi 2.Agra 3.Jaipur :Jaipur\n",
      "Monument : Jal Mahal\n"
     ]
    }
   ],
   "source": [
    "#3 Accept any city from user and display monuments of that city\n",
    "city = input(\"Enter a city from the given list:\\n1.Delhi 2.Agra 3.Jaipur :\")\n",
    "if city == 'Delhi':\n",
    "    print(\"Monument : Red Fort\")\n",
    "elif city == 'Agra':\n",
    "    print(\"Monument : Taj Mahal\")\n",
    "elif city == 'Jaipur':\n",
    "    print(\"Monument : Jal Mahal\")\n",
    "else:\n",
    "    print(\"Sorry! No information available for the entered city.\")"
   ]
  },
  {
   "cell_type": "code",
   "execution_count": 16,
   "id": "069b8e61",
   "metadata": {},
   "outputs": [
    {
     "name": "stdout",
     "output_type": "stream",
     "text": [
      "Count : 5\n"
     ]
    }
   ],
   "source": [
    "#4 Check how many times a number can be divided by 3 before it is less than or equal to 10\n",
    "n = 2541\n",
    "c = 0\n",
    "while n > 10:\n",
    "    n = n // 3\n",
    "    c = c + 1\n",
    "    #print(n)\n",
    "print(\"Count :\",c)    "
   ]
  },
  {
   "cell_type": "code",
   "execution_count": 21,
   "id": "38fe424b",
   "metadata": {},
   "outputs": [
    {
     "name": "stdout",
     "output_type": "stream",
     "text": [
      "Pattern 1\n",
      "* * * * * \n",
      "* * * * * \n",
      "* * * * * \n",
      "* * * * * \n",
      "* * * * * \n"
     ]
    }
   ],
   "source": [
    "#6 use nested while loop to print 3 patterns\n",
    "n = 5\n",
    "\n",
    "print(\"Pattern 1\")\n",
    "while n >= 1:\n",
    "    i = 1\n",
    "    while i <= 5:\n",
    "        print(\"*\",end=\" \")\n",
    "        i = i + 1\n",
    "    n = n - 1\n",
    "    print()"
   ]
  },
  {
   "cell_type": "code",
   "execution_count": 23,
   "id": "b1f07495",
   "metadata": {},
   "outputs": [
    {
     "name": "stdout",
     "output_type": "stream",
     "text": [
      "Pattern 2\n",
      "* * * * * \n",
      "* * * * \n",
      "* * * \n",
      "* * \n",
      "* \n"
     ]
    }
   ],
   "source": [
    "n = 5\n",
    "print(\"Pattern 2\")\n",
    "while n >= 1:\n",
    "    i = 1\n",
    "    while i <= n:\n",
    "        print(\"*\",end=\" \")\n",
    "        i = i + 1\n",
    "    n = n - 1\n",
    "    print()"
   ]
  },
  {
   "cell_type": "code",
   "execution_count": 26,
   "id": "e66fdeb7",
   "metadata": {},
   "outputs": [
    {
     "name": "stdout",
     "output_type": "stream",
     "text": [
      "Pattern 3\n",
      "1 \n",
      "1 2 \n",
      "1 2 3 \n",
      "1 2 3 4 \n",
      "1 2 3 4 5 \n"
     ]
    }
   ],
   "source": [
    "ch = 5\n",
    "n = 1\n",
    "\n",
    "print(\"Pattern 3\")\n",
    "while n <= ch:\n",
    "    i = 1\n",
    "    while i <= n:\n",
    "        print(i,end=\" \")\n",
    "        i = i + 1\n",
    "    n = n + 1\n",
    "    print()"
   ]
  },
  {
   "cell_type": "code",
   "execution_count": 17,
   "id": "b117d3ff",
   "metadata": {},
   "outputs": [
    {
     "name": "stdout",
     "output_type": "stream",
     "text": [
      "10 9 8 7 6 5 4 3 2 1 "
     ]
    }
   ],
   "source": [
    "#7 Reverse a while loop to display numbers from 10 to 1\n",
    "a = 10\n",
    "while a>0:\n",
    "    print(a,end=\" \")\n",
    "    a = a - 1"
   ]
  },
  {
   "cell_type": "code",
   "execution_count": null,
   "id": "be0f25ba",
   "metadata": {},
   "outputs": [],
   "source": []
  },
  {
   "cell_type": "code",
   "execution_count": null,
   "id": "54183ec0",
   "metadata": {},
   "outputs": [],
   "source": []
  }
 ],
 "metadata": {
  "kernelspec": {
   "display_name": "Python 3 (ipykernel)",
   "language": "python",
   "name": "python3"
  },
  "language_info": {
   "codemirror_mode": {
    "name": "ipython",
    "version": 3
   },
   "file_extension": ".py",
   "mimetype": "text/x-python",
   "name": "python",
   "nbconvert_exporter": "python",
   "pygments_lexer": "ipython3",
   "version": "3.9.13"
  }
 },
 "nbformat": 4,
 "nbformat_minor": 5
}
