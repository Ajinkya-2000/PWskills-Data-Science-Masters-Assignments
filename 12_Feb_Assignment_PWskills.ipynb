{
 "cells": [
  {
   "cell_type": "code",
   "execution_count": null,
   "id": "9b48eeac",
   "metadata": {},
   "outputs": [],
   "source": [
    "# Q1\n",
    "'''\n",
    "Exception in python :-\n",
    "An exception is an event, which occurs during the execution of the program that disrupts the normal flow of the program's\n",
    "instructions.In general,when a python script encounters a situation that it cannot cope with, it raises an exception.\n",
    "When a python script raises an exception, it must either handle the exception immediately otherwise it terminates and quits.\n",
    "'''\n",
    "'''\n",
    "Exception and Syntax errors :-\n",
    "i) Exception in python can occur due to no. of reasons, like file not found or division by zero, etc.In python, exceptions\n",
    "are objects which means they have a type,value and a traceback that provides information about where the exception occured.\n",
    "ii) Syntax error is a type of error that occurs when the python interpreter is unable to understand the code that is been\n",
    "written.This can happen when there are mistake in the syntax of the code.\n",
    "iii) The main difference is that exception occur during execution of the code and can be handled by the program while \n",
    "syntax errors are detected before the program is executed and prevent the program from running at all.\n",
    "'''"
   ]
  },
  {
   "cell_type": "code",
   "execution_count": 2,
   "id": "0e46aec6",
   "metadata": {},
   "outputs": [
    {
     "ename": "ZeroDivisionError",
     "evalue": "division by zero",
     "output_type": "error",
     "traceback": [
      "\u001b[1;31m---------------------------------------------------------------------------\u001b[0m",
      "\u001b[1;31mZeroDivisionError\u001b[0m                         Traceback (most recent call last)",
      "\u001b[1;32m~\\AppData\\Local\\Temp\\ipykernel_14032\\264365547.py\u001b[0m in \u001b[0;36m<module>\u001b[1;34m\u001b[0m\n\u001b[0;32m      6\u001b[0m \u001b[1;31m# Example of an unhandled exception\u001b[0m\u001b[1;33m\u001b[0m\u001b[1;33m\u001b[0m\u001b[0m\n\u001b[0;32m      7\u001b[0m \u001b[0ma\u001b[0m \u001b[1;33m,\u001b[0m \u001b[0mb\u001b[0m \u001b[1;33m=\u001b[0m \u001b[1;36m0\u001b[0m \u001b[1;33m,\u001b[0m \u001b[1;36m3\u001b[0m\u001b[1;33m\u001b[0m\u001b[1;33m\u001b[0m\u001b[0m\n\u001b[1;32m----> 8\u001b[1;33m \u001b[0mprint\u001b[0m\u001b[1;33m(\u001b[0m\u001b[0mb\u001b[0m\u001b[1;33m/\u001b[0m\u001b[0ma\u001b[0m\u001b[1;33m)\u001b[0m\u001b[1;33m\u001b[0m\u001b[1;33m\u001b[0m\u001b[0m\n\u001b[0m",
      "\u001b[1;31mZeroDivisionError\u001b[0m: division by zero"
     ]
    }
   ],
   "source": [
    "# Q2\n",
    "'''\n",
    "When an exception is not handled, it causes the program to terminate and exit immediately.The error message associated \n",
    "with the exception is displayed on the console which provides useful information about what went wrong.\n",
    "'''\n",
    "# Example of an unhandled exception\n",
    "a , b = 0 , 3\n",
    "print(b/a)"
   ]
  },
  {
   "cell_type": "code",
   "execution_count": 3,
   "id": "94ec29c3",
   "metadata": {},
   "outputs": [
    {
     "name": "stdout",
     "output_type": "stream",
     "text": [
      "division by zero\n"
     ]
    }
   ],
   "source": [
    "# Q3 \n",
    "'''\n",
    "We have 'try' and 'except' blocks to handle and catch the exceptions in python.The 'try' block is where we write the code \n",
    "that can cause an exception and in the 'except' block we handle the exception.\n",
    "The general syntax is :-\n",
    "try:\n",
    "    # Code\n",
    "except:\n",
    "    # Msg about what went wrong\n",
    "'''\n",
    "\n",
    "# Example :\n",
    "try:\n",
    "    a , b = 0 , 5\n",
    "    print(b/a)\n",
    "except Exception as e:\n",
    "    print(e)"
   ]
  },
  {
   "cell_type": "code",
   "execution_count": 5,
   "id": "7bc97473",
   "metadata": {},
   "outputs": [
    {
     "name": "stdout",
     "output_type": "stream",
     "text": [
      "Division by zero is not allowed !\n",
      "This statement always gets executed\n"
     ]
    }
   ],
   "source": [
    "# Q4 With example explain - try else finally raise\n",
    "def divide(x,y):\n",
    "    if y == 0:\n",
    "        raise ValueError(\"Division by zero is not allowed !\")\n",
    "    else:\n",
    "        print(x/y)\n",
    "\n",
    "try:\n",
    "    x , y = 10 , 0\n",
    "    divide(x,y)\n",
    "except ValueError as e:\n",
    "    print(e)\n",
    "else:\n",
    "    print(\"Division Successful\")\n",
    "finally:\n",
    "    print(\"This statement always gets executed\")"
   ]
  },
  {
   "cell_type": "code",
   "execution_count": null,
   "id": "2bd0ca24",
   "metadata": {},
   "outputs": [],
   "source": [
    "# Q5\n",
    "'''\n",
    "In Python, custom exceptions are user-defined exceptions that are created by extending one of the built-in exception \n",
    "classes or creating a new exception class from scratch.\n",
    "\n",
    "We need cutom exceptions for :\n",
    "i) Organization of our code in a more structured way.\n",
    "ii) Allows us to provide more meaningul error messages based on our application.\n",
    "iii) Makes it easy to debug the code.\n",
    "'''"
   ]
  },
  {
   "cell_type": "code",
   "execution_count": 12,
   "id": "ef40e8ed",
   "metadata": {},
   "outputs": [
    {
     "name": "stdout",
     "output_type": "stream",
     "text": [
      "Enter your gender :Male\n",
      "The Entered gender is valid\n",
      "\n",
      "Enter your gender :Femalllle\n",
      "Please enter a gender from the below options\n",
      "Male Female Others\n"
     ]
    }
   ],
   "source": [
    "# Example of Custom Exception - Q5 Example and Q6\n",
    "class Validate_Gender(Exception):\n",
    "    def __init__(s,msg):\n",
    "        s.msg = msg\n",
    "        #print(s.msg)\n",
    "\n",
    "def ValidateGender(gender):\n",
    "    if gender in ['Male','male','M','Female','female','F','Others','O']:\n",
    "        print(\"The Entered gender is valid\")\n",
    "    else:\n",
    "        raise Validate_Gender(\"Please enter a gender from the below options\\nMale Female Others\")\n",
    "\n",
    "try:\n",
    "    gen = input(\"Enter your gender :\")\n",
    "    ValidateGender(gen)\n",
    "except Validate_Gender as e:\n",
    "    print(e)\n",
    "print()   \n",
    "try:\n",
    "    gen = input(\"Enter your gender :\")\n",
    "    ValidateGender(gen)\n",
    "except Validate_Gender as e:\n",
    "    print(e)"
   ]
  },
  {
   "cell_type": "code",
   "execution_count": null,
   "id": "74f5a6f4",
   "metadata": {},
   "outputs": [],
   "source": []
  }
 ],
 "metadata": {
  "kernelspec": {
   "display_name": "Python 3 (ipykernel)",
   "language": "python",
   "name": "python3"
  },
  "language_info": {
   "codemirror_mode": {
    "name": "ipython",
    "version": 3
   },
   "file_extension": ".py",
   "mimetype": "text/x-python",
   "name": "python",
   "nbconvert_exporter": "python",
   "pygments_lexer": "ipython3",
   "version": "3.9.13"
  }
 },
 "nbformat": 4,
 "nbformat_minor": 5
}
