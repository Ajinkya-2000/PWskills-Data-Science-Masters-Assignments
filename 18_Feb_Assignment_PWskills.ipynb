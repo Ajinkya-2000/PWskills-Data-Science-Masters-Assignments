{
 "cells": [
  {
   "cell_type": "code",
   "execution_count": null,
   "id": "0c04d7cd",
   "metadata": {},
   "outputs": [],
   "source": [
    "# Q1\n",
    "'''\n",
    "API stands for Application Programming Interface.It's a set of protocols,routines, and tools for\n",
    "building software applications that specify how different software components should interact \n",
    "with each other,enabling developers to access certain functionalities or data without having to\n",
    "understand how those functionalities or data are implemented.\n",
    "\n",
    "Example :- Google maps API\n",
    "This API allows developers to integrate Google Maps into their own application, such as\n",
    "websites or mobile apps.By using the Google Maps API, developers can access a range of map\n",
    "related functionalities.\n",
    "\n",
    "'''"
   ]
  },
  {
   "cell_type": "code",
   "execution_count": null,
   "id": "250d805d",
   "metadata": {},
   "outputs": [],
   "source": [
    "# Q2\n",
    "'''\n",
    "Advantages of APIs :-\n",
    "1. Increased Efficiency-APIs significantly improve the efficiency of software development by allowing\n",
    "developers to access pre-built functionalities and datat that would otherwise need to be built from \n",
    "scratch.\n",
    "2. Improved User Experience - APIs can enhance the user experience by providing access to a broader \n",
    "range of functionalities, enabling developers to create more comprehensive and feature-rich \n",
    "applications.\n",
    "3. Reduced Development Costs: APIs can help reduce development costs by eliminating the need for \n",
    "developers to build everything from scratch.\n",
    "\n",
    "Disadvantages of APIs :-\n",
    "1. Complexity - APIs can be complex to implement and maintain, particularly for large-scale or \n",
    "complex applications.\n",
    "2. Security Risks - APIs can create security risks, as they provide an external interface for \n",
    "accessing sensitive data and functionalities.\n",
    "3. Complatibility Issues - Different software applications and system may have different API \n",
    "implementation, which can lead to compatibility issues that require additional development effort \n",
    "to resolve.\n",
    "\n",
    "'''"
   ]
  },
  {
   "cell_type": "code",
   "execution_count": null,
   "id": "92b86d5b",
   "metadata": {},
   "outputs": [],
   "source": [
    "# Q3\n",
    "'''\n",
    "Web API is a set of protocols and tools for building software applications that interact with \n",
    "web-based systems. It enables communication and data exchange between different software applications\n",
    "over the internet.\n",
    "\n",
    "Difference between API and Web API :-\n",
    "\n",
    "Web API is specifically designed for use with web-based systems and communicates over the internet\n",
    "using Http or Https protocols.It can be accessed using http requests and responses, data is\n",
    "typically exchanged in Json or Xml format.\n",
    "\n",
    "API may be designed for use with any type of software system, not just web-based systems. APIs can\n",
    "use variety of communication protocols such as TCP/IP or Bluetooth and data can be exchanged in a \n",
    "variety of formats, such as binary or text protocols.\n",
    "\n",
    "'''"
   ]
  },
  {
   "cell_type": "code",
   "execution_count": null,
   "id": "e4de6f04",
   "metadata": {},
   "outputs": [],
   "source": [
    "# Q4\n",
    "'''\n",
    "REST (Representational State Transfer) and SOAP (Simple Object Access Protocol) are two popular \n",
    "architectural styles used to develop web services.\n",
    "\n",
    "REST is a web service architecture that uses HTTP protocols for data transmission. REST is a \n",
    "stateless architecture where the server does not store any client information. It allows clients \n",
    "to access and manipulate web resources using a set of predefined operations like GET, POST, PUT, \n",
    "DELETE, etc. \n",
    "SOAP, on the other hand, is a messaging protocol that uses XML (eXtensible Markup Language) format \n",
    "to transmit data over different platforms. SOAP is a stateful architecture, which means it can \n",
    "maintain session state between client and server. \n",
    "\n",
    "One of the major shortcomings of SOAP is its complexity. SOAP messages are usually larger than REST \n",
    "messages due to the additional XML markup. \n",
    "\n",
    "'''"
   ]
  },
  {
   "cell_type": "code",
   "execution_count": null,
   "id": "68c142cc",
   "metadata": {},
   "outputs": [],
   "source": [
    "# Q5\n",
    "'''\n",
    "Difference between REST and SOAP :-\n",
    "\n",
    "1. Protocol - REST uses simple Http protocols such as GET,POST,PUT and DELETE to communicate\n",
    "between client and server, while SOAP uses XML based messaging protocol.\n",
    "2. Data format - REST supports multiple data formats like json,xml and plain text while SOAP\n",
    "messages are always in XML format.\n",
    "3. Performance - REST is generally faster and more lightweight than SOAP because it uses \n",
    "fewer resources and has less overhead.\n",
    "4. Flexibility - RESTful APIs are more flexible than SOAP as they can be easily modified or \n",
    "extended without breaking existing clients.\n",
    "5. Ease of use- REST is simpler to use as it uses standard http methods while SOAP requires\n",
    "more complex tools and protocols to build and consume web services.\n",
    "\n",
    "'''"
   ]
  },
  {
   "cell_type": "code",
   "execution_count": null,
   "id": "0808f9cd",
   "metadata": {},
   "outputs": [],
   "source": []
  }
 ],
 "metadata": {
  "kernelspec": {
   "display_name": "Python 3 (ipykernel)",
   "language": "python",
   "name": "python3"
  },
  "language_info": {
   "codemirror_mode": {
    "name": "ipython",
    "version": 3
   },
   "file_extension": ".py",
   "mimetype": "text/x-python",
   "name": "python",
   "nbconvert_exporter": "python",
   "pygments_lexer": "ipython3",
   "version": "3.9.13"
  }
 },
 "nbformat": 4,
 "nbformat_minor": 5
}
