{
 "cells": [
  {
   "cell_type": "code",
   "execution_count": 1,
   "id": "22086afa",
   "metadata": {},
   "outputs": [
    {
     "name": "stdout",
     "output_type": "stream",
     "text": [
      "[1, 3, 5, 7, 9, 11, 13, 15, 17, 19, 21, 23, 25]\n"
     ]
    }
   ],
   "source": [
    "# Q1 'def' keyword is used to create a function in python.\n",
    "def Odd_No_list(a):\n",
    "    l = []\n",
    "    for i in a:\n",
    "        if i%2 == 1:\n",
    "            l.append(i)\n",
    "    return l\n",
    "\n",
    "print(Odd_No_list(range(1,26)))"
   ]
  },
  {
   "cell_type": "code",
   "execution_count": 3,
   "id": "90e194be",
   "metadata": {},
   "outputs": [],
   "source": [
    "# Q2 *args and **kwargs\n",
    "'''\n",
    "*args stands for non-keyword arguments.\n",
    "**Kwargs stands for keyword arguments.\n",
    "-> We use *args and **kwargs as arguments of a function when we are unsure about the number of arguments to be passed.\n",
    "\n",
    "i) The special syntax *args in function definitions in python is used to pass a variable number of arguments to a function. \n",
    "It is used to pass a non-key worded, variable-length argument list. \n",
    "ii) The special syntax **kwargs in function definitions in python is used to pass a keyworded, \n",
    "variable-length argument list.\n",
    "\n",
    "'''\n"
   ]
  },
  {
   "cell_type": "code",
   "execution_count": 8,
   "id": "c9cddecb",
   "metadata": {},
   "outputs": [
    {
     "name": "stdout",
     "output_type": "stream",
     "text": [
      "Sum of items is 230\n",
      "\n",
      "name Ajinkya\n",
      "age 22\n",
      "clg rait\n",
      "city Navi Mumbai\n"
     ]
    }
   ],
   "source": [
    "# Examples of *args \n",
    "def Sum_of_Items(*s):\n",
    "    sum = 0\n",
    "    for i in s:\n",
    "        sum += i\n",
    "    print(f\"Sum of items is {sum}\")\n",
    "    \n",
    "Sum_of_Items(2,3,45,78,12,34,56)\n",
    "print()\n",
    "\n",
    "# Example of **kwargs\n",
    "def Person_Info(**info):\n",
    "    for i,j in info.items():\n",
    "        print(i,j)\n",
    "        \n",
    "Person_Info(name = 'Ajinkya', age = 22, clg = 'rait', city = 'Navi Mumbai')"
   ]
  },
  {
   "cell_type": "code",
   "execution_count": null,
   "id": "25cd8b8f",
   "metadata": {},
   "outputs": [],
   "source": [
    "# Q3 Iterators in python\n",
    "'''\n",
    "-Iterator in python is an object that is used to iterate over iterable objects like lists,tuples,dicts and sets.\n",
    "-The iterator object is initialized using the iter() method.It uses the next() method for iteration.\n",
    "- __iter__() - The iter() method is called for the initialization of an iterator.\n",
    "- __next__() - The next method returns the next value for the iterable.\n",
    "\n",
    "'''"
   ]
  },
  {
   "cell_type": "code",
   "execution_count": 1,
   "id": "394f5743",
   "metadata": {},
   "outputs": [
    {
     "name": "stdout",
     "output_type": "stream",
     "text": [
      "2\n",
      "4\n",
      "6\n",
      "8\n",
      "10\n"
     ]
    }
   ],
   "source": [
    "# Print first five elements of the list using iterator\n",
    "l1 = [2,4,6,8,10,12,14,16,18,20]\n",
    "iterator = iter(l1)\n",
    "\n",
    "print(next(iterator))\n",
    "print(next(iterator))\n",
    "print(next(iterator))\n",
    "print(next(iterator))\n",
    "print(next(iterator))"
   ]
  },
  {
   "cell_type": "code",
   "execution_count": null,
   "id": "d2f85671",
   "metadata": {},
   "outputs": [],
   "source": [
    "# Q4 Generators in python\n",
    "'''\n",
    "-Python generators are the functions that return the travsel object and are used to create iterators.\n",
    "-A generator function is defined like a normal function, but wheneven it needs to generate a value,\n",
    " it does so with the 'yeild' keyword rather than return.\n",
    "-Generator functions return generator object.These objects are either called by the next method or\n",
    " by using the 'for in' loop.\n",
    " \n",
    " Use of yeild keyword :\n",
    " -Yield statement is responsible for controlling the flow of the generator function.\n",
    "  It pauses the function execution by saving all states and yeilded to the caller.\n",
    " -The normal functon returns a sequence of list which creates an entire sequence in memory before\n",
    "  returning the result,but generator function calculates the value and pause their execution with use of yield, \n",
    "  thus the memory is optimized.\n",
    "'''"
   ]
  },
  {
   "cell_type": "code",
   "execution_count": 8,
   "id": "0624f0bd",
   "metadata": {},
   "outputs": [
    {
     "name": "stdout",
     "output_type": "stream",
     "text": [
      "1\n",
      "3\n",
      "5\n",
      "7\n",
      "9\n"
     ]
    }
   ],
   "source": [
    "# Example of generator fucntion\n",
    "def sample():\n",
    "    for i in range(10):\n",
    "        if i%2 == 1:\n",
    "            yield i\n",
    "\n",
    "for i in sample():\n",
    "    print(i)\n"
   ]
  },
  {
   "cell_type": "code",
   "execution_count": 17,
   "id": "455f6688",
   "metadata": {},
   "outputs": [
    {
     "name": "stdout",
     "output_type": "stream",
     "text": [
      "Prime numbers less than 1000 :\n",
      "2 3 5 7 11 13 17 19 23 29 31 37 41 43 47 53 59 61 67 71 73 79 83 89 97 101 103 107 109 113 127 131 137 139 149 151 157 163 167 173 179 181 191 193 197 199 211 223 227 229 233 239 241 251 257 263 269 271 277 281 283 293 307 311 313 317 331 337 347 349 353 359 367 373 379 383 389 397 401 409 419 421 431 433 439 443 449 457 461 463 467 479 487 491 499 503 509 521 523 541 547 557 563 569 571 577 587 593 599 601 607 613 617 619 631 641 643 647 653 659 661 673 677 683 691 701 709 719 727 733 739 743 751 757 761 769 773 787 797 809 811 821 823 827 829 839 853 857 859 863 877 881 883 887 907 911 919 929 937 941 947 953 967 971 977 983 991 997 \n",
      "\n",
      "First 20 prime numbers :\n",
      "2 3 5 7 11 13 17 19 23 29 31 37 41 43 47 53 59 61 67 71 "
     ]
    }
   ],
   "source": [
    "# Q5 Generator function for prime numbers less than 1000\n",
    "def Prime_Number_1000():\n",
    "    for i in range(1,1000):\n",
    "        c = 0\n",
    "        for j in range(1,i+1):\n",
    "            if i%j == 0:\n",
    "                c += 1\n",
    "        if c == 2:\n",
    "            yield i\n",
    "            \n",
    "print(\"Prime numbers less than 1000 :\")\n",
    "for i in Prime_Number_1000():\n",
    "    print(i,end=\" \")\n",
    "    \n",
    "print()\n",
    "print()\n",
    "print(\"First 20 prime numbers :\")\n",
    "a = iter(Prime_Number_1000())\n",
    "for i in range(20):\n",
    "    print(next(a),end=\" \")"
   ]
  },
  {
   "cell_type": "code",
   "execution_count": null,
   "id": "1887db58",
   "metadata": {},
   "outputs": [],
   "source": []
  }
 ],
 "metadata": {
  "kernelspec": {
   "display_name": "Python 3 (ipykernel)",
   "language": "python",
   "name": "python3"
  },
  "language_info": {
   "codemirror_mode": {
    "name": "ipython",
    "version": 3
   },
   "file_extension": ".py",
   "mimetype": "text/x-python",
   "name": "python",
   "nbconvert_exporter": "python",
   "pygments_lexer": "ipython3",
   "version": "3.9.13"
  }
 },
 "nbformat": 4,
 "nbformat_minor": 5
}
