{
 "cells": [
  {
   "cell_type": "code",
   "execution_count": 11,
   "id": "8d06bd10",
   "metadata": {},
   "outputs": [
    {
     "name": "stdout",
     "output_type": "stream",
     "text": [
      "Enter password of your choice :Ajinkya@2000\n",
      "Invalid Password\n",
      "Try again! Follow the guidelines of password generation\n",
      "Enter password of your choice :AjinkyA@02#00!\n",
      "Valid Password\n"
     ]
    }
   ],
   "source": [
    "#1 Password for the company\n",
    "# Password should contain - 2 uppercase, 2 lowercase, 1 number, 3 special characters, length 10 \n",
    "flag = 0\n",
    "special_char = '!@#$/,&~^\\?%'\n",
    "upper,lower,num,sp = 0 , 0 , 0 , 0\n",
    "\n",
    "while flag == 0:\n",
    "    password = input(\"Enter password of your choice :\")\n",
    "    length = len(password)\n",
    "    for i in password:\n",
    "        if i.isupper():\n",
    "            upper += 1\n",
    "        elif i.islower():\n",
    "            lower += 1\n",
    "        elif i.isdigit():\n",
    "            num += 1\n",
    "        elif i in special_char:\n",
    "            sp += 1\n",
    "\n",
    "    if upper >= 2 and lower >= 2 and num >= 1 and sp >= 3 and length >= 10:\n",
    "        print(\"Valid Password\")\n",
    "        flag = 1\n",
    "    else:\n",
    "        print(\"Invalid Password\")\n",
    "        print(\"Try again! Follow the guidelines of password generation\")\n",
    "        flag = 0"
   ]
  },
  {
   "cell_type": "code",
   "execution_count": 13,
   "id": "a9178e87",
   "metadata": {},
   "outputs": [
    {
     "name": "stdout",
     "output_type": "stream",
     "text": [
      "Names starting with a : ['ajinkya', 'amit', 'aditya']\n",
      "\n",
      "Numeric values string : ['1245', '56']\n",
      "\n",
      "Sorted list according to values of fruits in descending order : [('grapes', 1000), ('mango', 99), ('orange', 80)]\n",
      "\n",
      "Sqaures of list : [1, 4, 9, 16, 25, 36, 49, 64, 81, 100]\n",
      "\n",
      "Cubes of list : [1, 8, 27, 64, 125, 216, 343, 512, 729, 1000]\n",
      "\n",
      "Is given number even or not : True\n",
      "Is given number even or not : False\n",
      "\n",
      "Odd numbers from the list : [1, 3, 5, 7, 9]\n",
      "\n",
      "Positive list : [0, 1, 2, 3, 4, 5, 6]\n",
      "Negative list : [-5, -4, -3, -2, -1]\n"
     ]
    }
   ],
   "source": [
    "#2 Lambda filter map list comprehension\n",
    "\n",
    "# Check if string starts with particular letter ('a')\n",
    "names = ['ajinkya' , 'amit' , 'kedar' , 'summit' , 'vishal' , 'aditya']\n",
    "names_with_a = list(filter(lambda x : x[0] == 'a' , names))\n",
    "print(\"Names starting with a :\",names_with_a)\n",
    "print()\n",
    "\n",
    "# Check if a string is numeric\n",
    "s1 = ['1245' , '2aj' , 'ajinkya' , 'saloni' , '56']\n",
    "numeric_string = list(filter(lambda b : b.isnumeric() , s1))\n",
    "print(\"Numeric values string :\",numeric_string)\n",
    "print()\n",
    "\n",
    "# Sort a list of tuples\n",
    "l2 =  [(\"mango\",99),(\"orange\",80), (\"grapes\", 1000)]\n",
    "new_list = sorted(l2 , key = lambda a : a[1] , reverse = True)\n",
    "print(\"Sorted list according to values of fruits in descending order :\",new_list)\n",
    "print()\n",
    "\n",
    "# Square of numbers from 1 to 10\n",
    "sq = [i*i for i in range(1,11)]\n",
    "print(\"Sqaures of list :\",sq)\n",
    "print()\n",
    "\n",
    "# Cube of numbers from 1 to 10\n",
    "cube = [i**3 for i in range(1,11)]\n",
    "print(\"Cubes of list :\",cube)\n",
    "print()\n",
    "\n",
    "# Check if the given number is even\n",
    "num = lambda x : x % 2 == 0\n",
    "print(f\"Is given number even or not :\",num(4))\n",
    "print(f\"Is given number even or not :\",num(7))\n",
    "print()\n",
    "\n",
    "# Filter odd numbers from given list\n",
    "l = [1,2,3,4,5,6,7,8,9,10]\n",
    "odds = list(filter(lambda a : a % 2 == 1 , l))\n",
    "print(\"Odd numbers from the list :\",odds)\n",
    "print()\n",
    "\n",
    "# Sort a list of integers into positive and negative integers lists.\n",
    "l1 = [1,2,3,4,5,6,-1,-2,-3,-4,-5,0]\n",
    "positive = list(filter(lambda a : a >= 0 , l1))\n",
    "negative = list(filter(lambda a : a < 0 , l1))\n",
    "positive.sort()\n",
    "negative.sort()\n",
    "print(\"Positive list :\",positive)\n",
    "print(\"Negative list :\",negative)"
   ]
  },
  {
   "cell_type": "code",
   "execution_count": null,
   "id": "8cde58f4",
   "metadata": {},
   "outputs": [],
   "source": []
  }
 ],
 "metadata": {
  "kernelspec": {
   "display_name": "Python 3 (ipykernel)",
   "language": "python",
   "name": "python3"
  },
  "language_info": {
   "codemirror_mode": {
    "name": "ipython",
    "version": 3
   },
   "file_extension": ".py",
   "mimetype": "text/x-python",
   "name": "python",
   "nbconvert_exporter": "python",
   "pygments_lexer": "ipython3",
   "version": "3.9.13"
  }
 },
 "nbformat": 4,
 "nbformat_minor": 5
}
